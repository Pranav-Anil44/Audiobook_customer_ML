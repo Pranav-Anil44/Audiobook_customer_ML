{
 "cells": [
  {
   "cell_type": "code",
   "execution_count": 1,
   "id": "e1bd0d0f-9a78-4fed-aec4-5349d2855a9e",
   "metadata": {},
   "outputs": [],
   "source": [
    "import numpy as np\n",
    "from  sklearn import preprocessing"
   ]
  },
  {
   "cell_type": "code",
   "execution_count": 2,
   "id": "7e84a356-4531-4966-90ec-93a6d4e81234",
   "metadata": {},
   "outputs": [],
   "source": [
    "raw_csv_data=np.loadtxt('Audiobooks_data.csv',delimiter=',')\n",
    "\n",
    "#now we have saved the raw data to a variable\n",
    "unscaled_inputs_all=raw_csv_data[:,1:-1]\n",
    "targets_all=raw_csv_data[:,-1]"
   ]
  },
  {
   "cell_type": "code",
   "execution_count": 46,
   "id": "806fe3bf-dccc-4a42-8386-e98148a96c62",
   "metadata": {},
   "outputs": [
    {
     "name": "stdout",
     "output_type": "stream",
     "text": [
      "Total number of indices to remove: 9611\n",
      "total number od targets after scaled : 4473\n",
      "total unscaled inputs after balacing : 4473\n"
     ]
    }
   ],
   "source": [
    "#Balancing the dataset\n",
    "num_one_targets=int(np.sum(targets_all))\n",
    "zero_target_counter=0\n",
    "indices_to_remove=[]\n",
    "\n",
    "for i in range(targets_all.shape[0]):\n",
    "    if targets_all[i]==0:\n",
    "         zero_target_counter += 1\n",
    "         if zero_target_counter >= num_one_targets:\n",
    "                indices_to_remove.append(i)\n",
    "            \n",
    "print(\"Total number of indices to remove:\", len(indices_to_remove))\n",
    "unscaled_input_equal_priors=np.delete(unscaled_inputs_all,indices_to_remove,axis=0)\n",
    "targets_equal_priors=np.delete(targets_all,indices_to_remove,axis=0)\n",
    "\n",
    "print(\"total number od targets after scaled :\" ,len(targets_equal_priors))\n",
    "print(\"total unscaled inputs after balacing :\" ,len(unscaled_input_equal_priors))"
   ]
  },
  {
   "cell_type": "code",
   "execution_count": 48,
   "id": "fdfc7c1f-2e7b-495e-bc74-504c951bc551",
   "metadata": {},
   "outputs": [
    {
     "name": "stderr",
     "output_type": "stream",
     "text": [
      "C:\\Users\\prana\\AppData\\Local\\Temp\\ipykernel_11556\\3777615979.py:1: DeprecationWarning: Importing display from IPython.core.display is deprecated since IPython 7.14, please import from IPython display\n",
      "  from IPython.core.display import display, HTML\n"
     ]
    },
    {
     "data": {
      "text/html": [
       "<style>.container { width:100% !important; }</style>"
      ],
      "text/plain": [
       "<IPython.core.display.HTML object>"
      ]
     },
     "metadata": {},
     "output_type": "display_data"
    }
   ],
   "source": [
    "from IPython.core.display import display, HTML\n",
    "display(HTML(\"<style>.container { width:100% !important; }</style>\"))"
   ]
  },
  {
   "cell_type": "code",
   "execution_count": 50,
   "id": "191d7cd6-da2a-4751-8d1e-9c070e19dade",
   "metadata": {},
   "outputs": [
    {
     "data": {
      "text/html": [
       "<style>.container { width:100% !important; }</style>"
      ],
      "text/plain": [
       "<IPython.core.display.HTML object>"
      ]
     },
     "metadata": {},
     "output_type": "display_data"
    }
   ],
   "source": [
    "from IPython.display import display, HTML\n",
    "display(HTML(\"<style>.container { width:100% !important; }</style>\"))"
   ]
  },
  {
   "cell_type": "code",
   "execution_count": 58,
   "id": "b9cd4b40-97c0-4fd8-bb05-b36c3fe041f9",
   "metadata": {},
   "outputs": [
    {
     "name": "stdout",
     "output_type": "stream",
     "text": [
      "Scaled input shape: (4473, 10)\n"
     ]
    }
   ],
   "source": [
    "#standardizing ithe input\n",
    "scaled_inputs=preprocessing.scale(unscaled_input_equal_priors)\n",
    "print(\"Scaled input shape:\", scaled_inputs.shape)\n"
   ]
  },
  {
   "cell_type": "code",
   "execution_count": 56,
   "id": "5370f9fe-baa5-4b75-99ac-2de05fe93967",
   "metadata": {},
   "outputs": [
    {
     "name": "stdout",
     "output_type": "stream",
     "text": [
      "Shape before balancing: (14084, 10)\n",
      "Shape after balancing: (4473, 10)\n"
     ]
    }
   ],
   "source": [
    "print(\"Shape before balancing:\", unscaled_inputs_all.shape)\n",
    "print(\"Shape after balancing:\", unscaled_input_equal_priors.shape)"
   ]
  },
  {
   "cell_type": "code",
   "execution_count": 66,
   "id": "4a4dd68b-e1b8-46aa-afb6-579fd85e105c",
   "metadata": {},
   "outputs": [],
   "source": [
    "#Shuffling the data\n",
    "\n",
    "shuffled_indices=np.arange(scaled_inputs.shape[0])\n",
    "np.random.shuffle(shuffled_indices)\n",
    "\n",
    "shuffled_inputs=scaled_inputs[shuffled_indices]\n",
    "shuffled_targets=targets_equal_priors[shuffled_indices]"
   ]
  },
  {
   "cell_type": "code",
   "execution_count": 96,
   "id": "ae00125b-d95b-4d40-b4ef-303732edd5aa",
   "metadata": {},
   "outputs": [
    {
     "name": "stdout",
     "output_type": "stream",
     "text": [
      "1777.0 3578 0.4966461710452767\n",
      "233.0 448 0.5200892857142857\n",
      "227.0 447 0.5078299776286354\n"
     ]
    }
   ],
   "source": [
    "#Splitting into training,test and validation data\n",
    "\n",
    "samples_count=shuffled_inputs.shape[0]\n",
    "train_sample_count= int(0.8*samples_count)\n",
    "validation_sample_count=int(0.1*samples_count)\n",
    "test_sample_count=samples_count-(train_sample_count+validation_sample_count)\n",
    "\n",
    "train_input=shuffled_inputs[:train_sample_count]\n",
    "train_target=shuffled_targets[:train_sample_count]\n",
    "\n",
    "validation_input=shuffled_inputs[train_sample_count : train_sample_count+validation_sample_count]\n",
    "validation_target=shuffled_targets[train_sample_count : train_sample_count+validation_sample_count]\n",
    "\n",
    "test_input=shuffled_inputs[train_sample_count+validation_sample_count :]\n",
    "test_target=shuffled_targets[train_sample_count+validation_sample_count :]\n",
    "\n",
    "#to verify if my training validation and test datset is balanced\n",
    "\n",
    "print(np.sum(train_target) ,train_sample_count, np.sum(train_target) / train_sample_count)\n",
    "print(np.sum(test_target),test_sample_count, np.sum(test_target) / test_sample_count)\n",
    "print(np.sum(validation_target),validation_sample_count,np.sum(validation_target) / validation_sample_count)"
   ]
  },
  {
   "cell_type": "code",
   "execution_count": 108,
   "id": "30e255bc-8900-4561-84a0-61a23e714ae0",
   "metadata": {},
   "outputs": [],
   "source": [
    "#saving my dataset as .npz files\n",
    "\n",
    "np.savez('Audiobook_data_train',inputs=train_input,output=train_target)\n",
    "np.savez('Audiobook_data_validation',inputs=validation_input,output=validation_target)\n",
    "np.savez('Audiobook_data_test',inputs=test_input,output=test_target)"
   ]
  },
  {
   "cell_type": "code",
   "execution_count": null,
   "id": "f021dec6-2427-44a4-be8d-f6e2f36f03f6",
   "metadata": {},
   "outputs": [],
   "source": []
  }
 ],
 "metadata": {
  "kernelspec": {
   "display_name": "Python (fresh_env)",
   "language": "python",
   "name": "fresh_env"
  },
  "language_info": {
   "codemirror_mode": {
    "name": "ipython",
    "version": 3
   },
   "file_extension": ".py",
   "mimetype": "text/x-python",
   "name": "python",
   "nbconvert_exporter": "python",
   "pygments_lexer": "ipython3",
   "version": "3.9.21"
  }
 },
 "nbformat": 4,
 "nbformat_minor": 5
}
