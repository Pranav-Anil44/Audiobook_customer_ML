{
 "cells": [
  {
   "cell_type": "code",
   "execution_count": 1,
   "id": "ca92b822-b8ec-4fac-96ef-10d4575743cc",
   "metadata": {},
   "outputs": [],
   "source": [
    "import numpy as np\n",
    "import tensorflow as tf"
   ]
  },
  {
   "cell_type": "code",
   "execution_count": 2,
   "id": "ab3bcdfb-5ef3-47b2-999a-5ce7cefbe548",
   "metadata": {},
   "outputs": [],
   "source": [
    "npz_train=np.load('Audiobook_data_train.npz')\n",
    "\n",
    "train_inputs=npz_train['inputs'].astype(np.float32)\n",
    "train_target=npz_train['output'].astype(np.float32)\n",
    "\n",
    "npz_validation=np.load('Audiobook_data_validation.npz')\n",
    "\n",
    "validation_input=npz_validation['inputs'].astype(np.float32)\n",
    "validation_target=npz_validation['output'].astype(np.float32)\n",
    "\n",
    "npz_test=np.load('Audiobook_data_test.npz')\n",
    "\n",
    "test_input=npz_test['inputs'].astype(np.float32)\n",
    "test_target=npz_test['output'].astype(np.float32)\n"
   ]
  },
  {
   "cell_type": "code",
   "execution_count": 3,
   "id": "54f50bd7-8adc-47b3-9f22-8c615a2812c8",
   "metadata": {},
   "outputs": [
    {
     "name": "stdout",
     "output_type": "stream",
     "text": [
      "['inputs', 'output']\n"
     ]
    }
   ],
   "source": [
    "npz_validation = np.load('Audiobook_data_validation.npz')\n",
    "print(npz_validation.files) "
   ]
  },
  {
   "cell_type": "code",
   "execution_count": 60,
   "id": "d625d0c9-924d-489d-8183-3a91c8c5e567",
   "metadata": {},
   "outputs": [],
   "source": [
    "#Model\n",
    "\n",
    "input_size=10\n",
    "output_size=2\n",
    "hidden_layer_size=125\n",
    "\n",
    "Model=tf.keras.Sequential([\n",
    "                            tf.keras.layers.Dense(hidden_layer_size,activation='relu'),\n",
    "                            tf.keras.layers.Dropout(0.2),\n",
    "                            tf.keras.layers.Dense(hidden_layer_size,activation='relu'),\n",
    "                            tf.keras.layers.Dropout(0.2),\n",
    "                            tf.keras.layers.Dense(hidden_layer_size,activation='relu'),\n",
    "                            tf.keras.layers.Dropout(0.2),\n",
    "                            tf.keras.layers.Dense(output_size,activation='softmax')])\n"
   ]
  },
  {
   "cell_type": "code",
   "execution_count": 62,
   "id": "61b18294-1616-49dd-90ae-812f5c2e3eff",
   "metadata": {},
   "outputs": [],
   "source": [
    "#optimizer and loss fintion\n",
    "Model.compile(optimizer='adam', loss='sparse_categorical_crossentropy',metrics=['accuracy'])"
   ]
  },
  {
   "cell_type": "code",
   "execution_count": 68,
   "id": "35e7ae07-ae05-4bf4-bb61-48f2c73d430b",
   "metadata": {},
   "outputs": [
    {
     "name": "stdout",
     "output_type": "stream",
     "text": [
      "Epoch 1/200\n",
      "60/60 - 0s - 4ms/step - accuracy: 0.8181 - loss: 0.3199 - val_accuracy: 0.8166 - val_loss: 0.3313\n",
      "Epoch 2/200\n",
      "60/60 - 0s - 4ms/step - accuracy: 0.8155 - loss: 0.3181 - val_accuracy: 0.8389 - val_loss: 0.3216\n",
      "Epoch 3/200\n",
      "60/60 - 0s - 4ms/step - accuracy: 0.8195 - loss: 0.3239 - val_accuracy: 0.8054 - val_loss: 0.3284\n",
      "Epoch 4/200\n",
      "60/60 - 0s - 4ms/step - accuracy: 0.8133 - loss: 0.3205 - val_accuracy: 0.8322 - val_loss: 0.3211\n",
      "Epoch 5/200\n",
      "60/60 - 0s - 5ms/step - accuracy: 0.8203 - loss: 0.3153 - val_accuracy: 0.8255 - val_loss: 0.3303\n",
      "Epoch 6/200\n",
      "60/60 - 0s - 5ms/step - accuracy: 0.8208 - loss: 0.3189 - val_accuracy: 0.8255 - val_loss: 0.3256\n",
      "Epoch 7/200\n",
      "60/60 - 0s - 5ms/step - accuracy: 0.8331 - loss: 0.3174 - val_accuracy: 0.8143 - val_loss: 0.3190\n",
      "Epoch 8/200\n",
      "60/60 - 0s - 4ms/step - accuracy: 0.8231 - loss: 0.3155 - val_accuracy: 0.8277 - val_loss: 0.3219\n",
      "Epoch 9/200\n",
      "60/60 - 0s - 4ms/step - accuracy: 0.8206 - loss: 0.3181 - val_accuracy: 0.8210 - val_loss: 0.3207\n",
      "Epoch 10/200\n",
      "60/60 - 0s - 4ms/step - accuracy: 0.8239 - loss: 0.3150 - val_accuracy: 0.8076 - val_loss: 0.3266\n",
      "Epoch 11/200\n",
      "60/60 - 0s - 4ms/step - accuracy: 0.8236 - loss: 0.3125 - val_accuracy: 0.8121 - val_loss: 0.3232\n",
      "Epoch 12/200\n",
      "60/60 - 0s - 6ms/step - accuracy: 0.8267 - loss: 0.3130 - val_accuracy: 0.8210 - val_loss: 0.3213\n",
      "Epoch 13/200\n",
      "60/60 - 0s - 4ms/step - accuracy: 0.8189 - loss: 0.3163 - val_accuracy: 0.8188 - val_loss: 0.3217\n",
      "Epoch 14/200\n",
      "60/60 - 0s - 4ms/step - accuracy: 0.8225 - loss: 0.3156 - val_accuracy: 0.8277 - val_loss: 0.3209\n",
      "Epoch 15/200\n",
      "60/60 - 0s - 4ms/step - accuracy: 0.8206 - loss: 0.3130 - val_accuracy: 0.8188 - val_loss: 0.3228\n",
      "Epoch 16/200\n",
      "60/60 - 0s - 4ms/step - accuracy: 0.8239 - loss: 0.3125 - val_accuracy: 0.8009 - val_loss: 0.3242\n",
      "Epoch 17/200\n",
      "60/60 - 0s - 4ms/step - accuracy: 0.8309 - loss: 0.3110 - val_accuracy: 0.8322 - val_loss: 0.3264\n"
     ]
    },
    {
     "data": {
      "text/plain": [
       "<keras.src.callbacks.history.History at 0x13fe4b59b20>"
      ]
     },
     "execution_count": 68,
     "metadata": {},
     "output_type": "execute_result"
    }
   ],
   "source": [
    "#Fitting the model\n",
    "batch_size=60\n",
    "max_epochs=200\n",
    "early_stopping=tf.keras.callbacks.EarlyStopping(patience=10)\n",
    "Model.fit(train_inputs,\n",
    "          train_target,\n",
    "          batch_size=batch_size,\n",
    "          epochs=max_epochs,\n",
    "          callbacks=[early_stopping],\n",
    "          validation_data=(validation_input,validation_target),\n",
    "          verbose=2)"
   ]
  },
  {
   "cell_type": "code",
   "execution_count": 70,
   "id": "310e6564-9185-414a-b219-d41be0e87c7a",
   "metadata": {},
   "outputs": [
    {
     "name": "stdout",
     "output_type": "stream",
     "text": [
      "\u001b[1m14/14\u001b[0m \u001b[32m━━━━━━━━━━━━━━━━━━━━\u001b[0m\u001b[37m\u001b[0m \u001b[1m0s\u001b[0m 3ms/step - accuracy: 0.8085 - loss: 0.3394 \n"
     ]
    }
   ],
   "source": [
    "#test\n",
    "test_loss,test_accuracy=Model.evaluate(test_input,test_target)"
   ]
  },
  {
   "cell_type": "code",
   "execution_count": null,
   "id": "52cc0e49-9751-4d31-b39f-f194c9e91e4e",
   "metadata": {},
   "outputs": [],
   "source": []
  }
 ],
 "metadata": {
  "kernelspec": {
   "display_name": "Python (fresh_env)",
   "language": "python",
   "name": "fresh_env"
  },
  "language_info": {
   "codemirror_mode": {
    "name": "ipython",
    "version": 3
   },
   "file_extension": ".py",
   "mimetype": "text/x-python",
   "name": "python",
   "nbconvert_exporter": "python",
   "pygments_lexer": "ipython3",
   "version": "3.9.21"
  }
 },
 "nbformat": 4,
 "nbformat_minor": 5
}
