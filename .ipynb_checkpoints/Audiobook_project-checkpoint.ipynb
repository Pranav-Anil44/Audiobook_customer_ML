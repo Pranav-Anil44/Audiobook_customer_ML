{
 "cells": [
  {
   "cell_type": "code",
   "execution_count": 1,
   "id": "e1bd0d0f-9a78-4fed-aec4-5349d2855a9e",
   "metadata": {},
   "outputs": [],
   "source": [
    "import numpy as np\n",
    "from  sklearn import preprocessing"
   ]
  },
  {
   "cell_type": "code",
   "execution_count": 2,
   "id": "7e84a356-4531-4966-90ec-93a6d4e81234",
   "metadata": {},
   "outputs": [],
   "source": [
    "raw_csv_data=np.loadtxt('Audiobooks_data.csv',delimiter=',')\n",
    "\n",
    "#now we have saved the raw data to a variable\n",
    "unscaled_inputs_all=raw_csv_data[:,1:-1]\n",
    "targets_all=raw_csv_data[:,-1]"
   ]
  },
  {
   "cell_type": "code",
   "execution_count": 24,
   "id": "806fe3bf-dccc-4a42-8386-e98148a96c62",
   "metadata": {},
   "outputs": [
    {
     "name": "stdout",
     "output_type": "stream",
     "text": [
      "Total number of indices to remove: 0\n"
     ]
    }
   ],
   "source": [
    "#Balancing the dataset\n",
    "num_one_targets=int(np.sum(targets_all))\n",
    "zero_target_counter=0\n",
    "indices_to_remove=[]\n",
    "\n",
    "for i in range(targets_all.shape[0]):\n",
    "    if targets_all[i]==0:\n",
    "         zero_targets_counter+=1\n",
    "         if zero_target_counter >= num_one_targets:\n",
    "                indices_to_remove.append(i)\n",
    "            \n",
    "print(\"Total number of indices to remove:\", len(indices_to_remove))"
   ]
  },
  {
   "cell_type": "code",
   "execution_count": null,
   "id": "fdfc7c1f-2e7b-495e-bc74-504c951bc551",
   "metadata": {},
   "outputs": [],
   "source": []
  },
  {
   "cell_type": "code",
   "execution_count": null,
   "id": "191d7cd6-da2a-4751-8d1e-9c070e19dade",
   "metadata": {},
   "outputs": [],
   "source": []
  }
 ],
 "metadata": {
  "kernelspec": {
   "display_name": "Python (fresh_env)",
   "language": "python",
   "name": "fresh_env"
  },
  "language_info": {
   "codemirror_mode": {
    "name": "ipython",
    "version": 3
   },
   "file_extension": ".py",
   "mimetype": "text/x-python",
   "name": "python",
   "nbconvert_exporter": "python",
   "pygments_lexer": "ipython3",
   "version": "3.9.21"
  }
 },
 "nbformat": 4,
 "nbformat_minor": 5
}
